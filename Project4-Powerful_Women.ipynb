{
 "cells": [
  {
   "cell_type": "markdown",
   "metadata": {
    "toc": true
   },
   "source": [
    "<h1>Table of Contents<span class=\"tocSkip\"></span></h1>\n",
    "<div class=\"toc\"><ul class=\"toc-item\"></ul></div>"
   ]
  },
  {
   "cell_type": "code",
   "execution_count": 63,
   "metadata": {
    "ExecuteTime": {
     "end_time": "2019-08-14T01:34:51.573019Z",
     "start_time": "2019-08-14T01:34:51.569949Z"
    }
   },
   "outputs": [],
   "source": [
    "csv_list = [\"Arianna.csv\",\"ElizabethWarren.csv\",\"EllenDegeneres.csv\",\"EmmaWatson.csv\",\"HillaryClinton.csv\",\"MaryBarra.csv\",\"MelindaGates.csv\",\n",
    "        \"MichelleObama.csv\",\"MorningMika.csv\",\"Oprah.csv\",\"TaylorSwift.csv\",\"LaverneCox\",\"SusanWojcicki\"]"
   ]
  },
  {
   "cell_type": "code",
   "execution_count": 68,
   "metadata": {
    "ExecuteTime": {
     "end_time": "2019-08-14T01:35:43.206005Z",
     "start_time": "2019-08-14T01:35:42.729186Z"
    }
   },
   "outputs": [],
   "source": [
    "import os\n",
    "import glob\n",
    "import pandas as pd\n",
    "os.chdir('/Users/fatimaloumaini/')\n",
    "extension = 'csv'\n",
    "all_filenames = [\"Arianna.csv\",\"ElizabethWarren.csv\",\"EllenDegeneres.csv\",\"EmmaWatson.csv\",\"HillaryClinton.csv\",\"MaryBarra.csv\",\"MelindaGates.csv\",\n",
    "        \"MichelleObama.csv\",\"MorningMika.csv\",\"Oprah.csv\",\"TaylorSwift.csv\",\"LaverneCox.csv\",\"SusanWojciciki.csv\"]\n",
    "\n",
    "#combine all files in the list\n",
    "combined_csv = pd.concat([pd.read_csv(f) for f in all_filenames ])\n",
    "#export to csv\n",
    "combined_csv.to_csv( \"combined_csv.csv\", index=False, encoding='utf-8-sig')\n",
    "\n",
    "    "
   ]
  },
  {
   "cell_type": "code",
   "execution_count": 69,
   "metadata": {
    "ExecuteTime": {
     "end_time": "2019-08-14T01:35:43.536395Z",
     "start_time": "2019-08-14T01:35:43.528394Z"
    }
   },
   "outputs": [
    {
     "data": {
      "text/plain": [
       "(14121, 30)"
      ]
     },
     "execution_count": 69,
     "metadata": {},
     "output_type": "execute_result"
    }
   ],
   "source": [
    "combined_csv.shape"
   ]
  },
  {
   "cell_type": "code",
   "execution_count": 70,
   "metadata": {
    "ExecuteTime": {
     "end_time": "2019-08-14T01:35:44.253997Z",
     "start_time": "2019-08-14T01:35:44.242514Z"
    }
   },
   "outputs": [
    {
     "data": {
      "text/plain": [
       "theellenshow      4215\n",
       "ariannahuff       3541\n",
       "senwarren         1619\n",
       "lavernecox        1156\n",
       "morningmika       1010\n",
       "hillaryclinton     878\n",
       "melindagates       595\n",
       "oprah              340\n",
       "susanwojcicki      262\n",
       "michelleobama      202\n",
       "taylorswift13      119\n",
       "mtbarra             94\n",
       "emmawatson          90\n",
       "Name: username, dtype: int64"
      ]
     },
     "execution_count": 70,
     "metadata": {},
     "output_type": "execute_result"
    }
   ],
   "source": [
    "combined_csv[\"username\"].value_counts()"
   ]
  },
  {
   "cell_type": "code",
   "execution_count": null,
   "metadata": {},
   "outputs": [],
   "source": []
  },
  {
   "cell_type": "code",
   "execution_count": null,
   "metadata": {},
   "outputs": [],
   "source": []
  }
 ],
 "metadata": {
  "kernelspec": {
   "display_name": "metis",
   "language": "python",
   "name": "metis"
  },
  "language_info": {
   "codemirror_mode": {
    "name": "ipython",
    "version": 3
   },
   "file_extension": ".py",
   "mimetype": "text/x-python",
   "name": "python",
   "nbconvert_exporter": "python",
   "pygments_lexer": "ipython3",
   "version": "3.7.3"
  },
  "toc": {
   "base_numbering": 1,
   "nav_menu": {},
   "number_sections": true,
   "sideBar": true,
   "skip_h1_title": false,
   "title_cell": "Table of Contents",
   "title_sidebar": "Contents",
   "toc_cell": true,
   "toc_position": {},
   "toc_section_display": true,
   "toc_window_display": false
  }
 },
 "nbformat": 4,
 "nbformat_minor": 2
}
